{
 "cells": [
  {
   "cell_type": "markdown",
   "metadata": {},
   "source": [
    "### 通过xbox手柄控制 Franka Panda 机器人\n",
    "\n",
    "* 环境\n",
    "\n",
    "| Package   | Version |\n",
    "|-----------|---------|\n",
    "| gymnasium | No Need  |\n",
    "| numpy | 1.24.0 |\n",
    "| grpcio |   1.64.1 |\n",
    "| pygame | 2.6.0 |\n",
    "| 关卡名 | Franka_Joystick (可控制关卡，录制或者不录制状态) |\n",
    "| 关卡名 | Franka_Joystick_Replay （回放专用关卡，不可操作） |\n",
    "\n",
    "* 通过手柄控制抓夹位姿\n",
    "* 通过mocap引导机器人移动\n",
    "* 通过设置录制回放状态，实现控制量的存储和重放，用于示教与模仿学习训练"
   ]
  },
  {
   "cell_type": "markdown",
   "metadata": {},
   "source": [
    "#### 测试手柄输入\n",
    "\n",
    "* 运行一段测试程序确认手柄有信号输入\n",
    "* 按下对应的键会打印信息"
   ]
  },
  {
   "cell_type": "code",
   "execution_count": null,
   "metadata": {},
   "outputs": [],
   "source": [
    "import os\n",
    "import sys\n",
    "import time\n",
    "\n",
    "current_file_path = os.path.abspath('')\n",
    "project_root = os.path.dirname(current_file_path)\n",
    "\n",
    "# 将项目根目录添加到 PYTHONPATH\n",
    "if project_root not in sys.path:\n",
    "    sys.path.append(project_root)\n",
    "\n",
    "from orca_gym.devices.xbox_joystick import XboxJoystick\n",
    "\n",
    "def test_xbox_controller():\n",
    "    try:\n",
    "        controller = XboxJoystick()\n",
    "        while True:\n",
    "            controller.update()            \n",
    "            state = controller.get_state()\n",
    "            print(\"Buttons:\", state[\"buttons\"])\n",
    "            print(\"Axes:\", state[\"axes\"])\n",
    "            print(\"Hats:\", state[\"hats\"])\n",
    "            time.sleep(1)\n",
    "    except KeyboardInterrupt:\n",
    "        controller.close()\n",
    "        print(\"程序结束\")\n",
    "\n",
    "if __name__ == '__main__':\n",
    "    test_xbox_controller()\n"
   ]
  },
  {
   "cell_type": "markdown",
   "metadata": {},
   "source": [
    "#### 控制 Franka Panda 机械臂\n",
    "\n",
    "* 基于Panda Mocap 环境，但不处理强化学习相关数据\n",
    "* 基于手柄状态对mocap点输入偏移量"
   ]
  },
  {
   "cell_type": "code",
   "execution_count": 2,
   "metadata": {},
   "outputs": [
    {
     "name": "stdout",
     "output_type": "stream",
     "text": [
      "simulation running... , grpc_address:  localhost:50051\n",
      "register_env:  localhost:50051\n",
      "Initializing simulation: Class: OrcaGymEnv\n",
      "Opt config:  {'timestep': 0.004999999888241291, 'apirate': 100.0, 'impratio': 1.0, 'tolerance': 9.99999993922529e-09, 'ls_tolerance': 0.009999999776482582, 'noslip_tolerance': 9.999999974752427e-07, 'mpr_tolerance': 9.999999974752427e-07, 'gravity': [0.0, 0.0, -9.8100004196167], 'wind': [0.0, 0.0, 0.0], 'magnetic': [0.0, -0.5, 0.0], 'density': 1.225000023841858, 'viscosity': 1.8000000636675395e-05, 'o_margin': 0.0, 'o_solref': [0.019999999552965164, 1.0], 'o_solimp': [0.8999999761581421, 0.949999988079071, 0.0010000000474974513, 0.5, 2.0], 'o_friction': [1.0, 1.0, 0.004999999888241291, 9.999999747378752e-05, 9.999999747378752e-05], 'integrator': 3, 'cone': 0, 'jacobian': 2, 'solver': 2, 'iterations': 100, 'ls_iterations': 50, 'noslip_iterations': 100, 'mpr_iterations': 50, 'disableflags': 0, 'enableflags': 0, 'disableactuator': 0, 'sdf_initpoints': 40, 'sdf_iterations': 10}\n",
      "Model info:  {'nq': 58, 'nv': 51, 'nu': 9, 'nbody': 22, 'njnt': 16, 'ngeom': 85, 'nsite': 2, 'nmesh': 71, 'ncam': 0, 'nlight': 0, 'nuser_body': 0, 'nuser_jnt': 0, 'nuser_geom': 0, 'nuser_site': 0, 'nuser_tendon': 0, 'nuser_actuator': 0, 'nuser_sensor': 0}\n",
      "Equality constraints:  [{'eq_type': 1, 'obj1_id': 8, 'obj2_id': 19, 'active': True, 'eq_solref': array([0.02, 1.  ]), 'eq_solimp': array([8.99999976e-01, 9.49999988e-01, 1.00000005e-03, 5.00000000e-01,\n",
      "       2.00000000e+00]), 'eq_data': array([0., 0., 0., 0., 0., 0., 1., 0., 0., 0., 1.])}]\n",
      "Mocap dict:  {'Panda_panda_mocap': 0}\n",
      "Actuator dict:  {'Panda_actuator1': {'JointName': 'Panda_joint1', 'GearRatio': 1.0}, 'Panda_actuator2': {'JointName': 'Panda_joint2', 'GearRatio': 1.0}, 'Panda_actuator3': {'JointName': 'Panda_joint3', 'GearRatio': 1.0}, 'Panda_actuator4': {'JointName': 'Panda_joint4', 'GearRatio': 1.0}, 'Panda_actuator5': {'JointName': 'Panda_joint5', 'GearRatio': 1.0}, 'Panda_actuator6': {'JointName': 'Panda_joint6', 'GearRatio': 1.0}, 'Panda_actuator7': {'JointName': 'Panda_joint7', 'GearRatio': 1.0}, 'Panda_actuator8': {'JointName': 'Panda_finger_joint1', 'GearRatio': 1.0}, 'Panda_actuator9': {'JointName': 'Panda_finger_joint2', 'GearRatio': 1.0}}\n",
      "Body dict:  {'world': 0, 'Floor_Floor': 1, 'Toys_Card3': 2, 'Toys_Box2': 3, 'Toys_Sphere1': 4, 'Toys_Box1': 5, 'Toys_Card2': 6, 'Toys_Card1': 7, 'Panda_panda_mocap': 8, 'Panda_link0': 9, 'Panda_link1': 10, 'Panda_link2': 11, 'Panda_link3': 12, 'Panda_link4': 13, 'Panda_link5': 14, 'Panda_link6': 15, 'Panda_link7': 16, 'Panda_hand': 17, 'Panda_left_finger': 18, 'Panda_ee_center_body': 19, 'Panda_right_finger': 20, 'obj_obj': 21}\n",
      "Joint dict:  {'Toys_Card3': {'joint_id': 0, 'joint_body_id': 2, 'joint_type': 0}, 'Toys_Box2': {'joint_id': 1, 'joint_body_id': 3, 'joint_type': 0}, 'Toys_Sphere1': {'joint_id': 2, 'joint_body_id': 4, 'joint_type': 0}, 'Toys_Box1': {'joint_id': 3, 'joint_body_id': 5, 'joint_type': 0}, 'Toys_Card2': {'joint_id': 4, 'joint_body_id': 6, 'joint_type': 0}, 'Toys_Card1': {'joint_id': 5, 'joint_body_id': 7, 'joint_type': 0}, 'Panda_joint1': {'joint_id': 6, 'joint_body_id': 10, 'joint_type': 3}, 'Panda_joint2': {'joint_id': 7, 'joint_body_id': 11, 'joint_type': 3}, 'Panda_joint3': {'joint_id': 8, 'joint_body_id': 12, 'joint_type': 3}, 'Panda_joint4': {'joint_id': 9, 'joint_body_id': 13, 'joint_type': 3}, 'Panda_joint5': {'joint_id': 10, 'joint_body_id': 14, 'joint_type': 3}, 'Panda_joint6': {'joint_id': 11, 'joint_body_id': 15, 'joint_type': 3}, 'Panda_joint7': {'joint_id': 12, 'joint_body_id': 16, 'joint_type': 3}, 'Panda_finger_joint1': {'joint_id': 13, 'joint_body_id': 18, 'joint_type': 2}, 'Panda_finger_joint2': {'joint_id': 14, 'joint_body_id': 20, 'joint_type': 2}, 'obj_joint': {'joint_id': 15, 'joint_body_id': 21, 'joint_type': 0}}\n",
      "Actuator control range:  [[-2.8973  2.8973]\n",
      " [-1.7628  1.7628]\n",
      " [-2.8973  2.8973]\n",
      " [-3.0718 -0.0698]\n",
      " [-2.8973  2.8973]\n",
      " [-0.0175  3.7525]\n",
      " [-2.8973  2.8973]\n",
      " [-0.1     0.1   ]\n",
      " [-0.1     0.1   ]]\n",
      "Opt Config before setting:  {'timestep': 0.004999999888241291, 'apirate': 100.0, 'impratio': 1.0, 'tolerance': 9.99999993922529e-09, 'ls_tolerance': 0.009999999776482582, 'noslip_tolerance': 9.999999974752427e-07, 'mpr_tolerance': 9.999999974752427e-07, 'gravity': [0.0, 0.0, -9.8100004196167], 'wind': [0.0, 0.0, 0.0], 'magnetic': [0.0, -0.5, 0.0], 'density': 1.225000023841858, 'viscosity': 1.8000000636675395e-05, 'o_margin': 0.0, 'o_solref': [0.019999999552965164, 1.0], 'o_solimp': [0.8999999761581421, 0.949999988079071, 0.0010000000474974513, 0.5, 2.0], 'o_friction': [1.0, 1.0, 0.004999999888241291, 9.999999747378752e-05, 9.999999747378752e-05], 'integrator': 3, 'cone': 0, 'jacobian': 2, 'solver': 2, 'iterations': 100, 'ls_iterations': 50, 'noslip_iterations': 100, 'mpr_iterations': 50, 'disableflags': 0, 'enableflags': 0, 'disableactuator': 0, 'sdf_initpoints': 40, 'sdf_iterations': 10}\n",
      "Opt Config after setting:  {'timestep': 0.004999999888241291, 'apirate': 100.0, 'impratio': 1.0, 'tolerance': 9.99999993922529e-09, 'ls_tolerance': 0.009999999776482582, 'noslip_tolerance': 9.999999974752427e-07, 'mpr_tolerance': 9.999999974752427e-07, 'gravity': [0.0, 0.0, -9.8100004196167], 'wind': [0.0, 0.0, 0.0], 'magnetic': [0.0, -0.5, 0.0], 'density': 1.225000023841858, 'viscosity': 1.8000000636675395e-05, 'o_margin': 0.0, 'o_solref': [0.019999999552965164, 1.0], 'o_solimp': [0.8999999761581421, 0.949999988079071, 0.0010000000474974513, 0.5, 2.0], 'o_friction': [1.0, 1.0, 0.004999999888241291, 9.999999747378752e-05, 9.999999747378752e-05], 'integrator': 3, 'cone': 0, 'jacobian': 2, 'solver': 2, 'iterations': 100, 'ls_iterations': 50, 'noslip_iterations': 100, 'mpr_iterations': 50, 'disableflags': 0, 'enableflags': 0, 'disableactuator': 0, 'sdf_initpoints': 40, 'sdf_iterations': 10}\n",
      "检测到手柄： Controller (Xbox One For Windows)\n",
      "启动仿真环境\n"
     ]
    },
    {
     "name": "stderr",
     "output_type": "stream",
     "text": [
      "c:\\Users\\super\\anaconda3\\envs\\orca_gym\\Lib\\site-packages\\gymnasium\\utils\\passive_env_checker.py:135: UserWarning: \u001b[33mWARN: The obs returned by the `reset()` method was expecting numpy array dtype to be float64, actual type: int32\u001b[0m\n",
      "  logger.warn(\n",
      "c:\\Users\\super\\anaconda3\\envs\\orca_gym\\Lib\\site-packages\\gymnasium\\utils\\passive_env_checker.py:135: UserWarning: \u001b[33mWARN: The obs returned by the `step()` method was expecting numpy array dtype to be float64, actual type: int32\u001b[0m\n",
      "  logger.warn(\n"
     ]
    },
    {
     "name": "stdout",
     "output_type": "stream",
     "text": [
      "关闭仿真环境\n"
     ]
    },
    {
     "name": "stderr",
     "output_type": "stream",
     "text": [
      "c:\\Users\\super\\anaconda3\\envs\\orca_gym\\Lib\\site-packages\\gymnasium\\core.py:311: UserWarning: \u001b[33mWARN: env.save_record to get variables from other wrappers is deprecated and will be removed in v1.0, to get this variable you can do `env.unwrapped.save_record` for environment variables or `env.get_wrapper_attr('save_record')` that will search the reminding wrappers.\u001b[0m\n",
      "  logger.warn(\n"
     ]
    }
   ],
   "source": [
    "import os\n",
    "import sys\n",
    "\n",
    "current_file_path = os.path.abspath('')\n",
    "project_root = os.path.dirname(current_file_path)\n",
    "\n",
    "# 将项目根目录添加到 PYTHONPATH\n",
    "if project_root not in sys.path:\n",
    "    sys.path.append(project_root)\n",
    "\n",
    "\n",
    "import gymnasium as gym\n",
    "import asyncio\n",
    "import nest_asyncio\n",
    "from gymnasium.envs.registration import register\n",
    "from datetime import datetime\n",
    "from envs.orca_gym_env import ActionSpaceType\n",
    "from envs.franka_control.franka_joystick_env import RecordState\n",
    "\n",
    "\n",
    "nest_asyncio.apply()\n",
    "\n",
    "# TIME_STEP = 0.016666666666666\n",
    "TIME_STEP = 0.005\n",
    "\n",
    "def register_env(grpc_address, record_state, record_file):\n",
    "    print(\"register_env: \", grpc_address)\n",
    "    gym.register(\n",
    "        id=f\"XboxControl-v0-OrcaGym-{grpc_address[-2:]}\",\n",
    "        entry_point=\"envs.franka_control.franka_joystick_env:FrankaJoystickEnv\",\n",
    "        kwargs={'frame_skip': 1,   # 1 action per frame\n",
    "                'reward_type': \"dense\",\n",
    "                'action_space_type': ActionSpaceType.CONTINUOUS,\n",
    "                'action_step_count': 0,\n",
    "                'grpc_address': grpc_address, \n",
    "                'agent_names': ['Panda'], \n",
    "                'time_step': TIME_STEP,\n",
    "                'record_state': record_state,\n",
    "                'record_file': record_file},\n",
    "        max_episode_steps=60 * 60 * 60,  # 60fps @ 1 hour\n",
    "        reward_threshold=0.0,\n",
    "    )\n",
    "\n",
    "async def continue_training(env):\n",
    "    observation, info = env.reset(seed=42)\n",
    "    while True:\n",
    "        start_time = datetime.now()\n",
    "\n",
    "        action = env.action_space.sample()\n",
    "        observation, reward, terminated, truncated, info = env.step(action)\n",
    "\n",
    "        # 帧率为 60fps ，为显示为正常速度，每次渲染间隔 16ms\n",
    "        elapsed_time = datetime.now() - start_time\n",
    "        if elapsed_time.total_seconds() < TIME_STEP:\n",
    "            await asyncio.sleep(TIME_STEP - elapsed_time.total_seconds())\n",
    "\n",
    "    \n",
    "\n",
    "if __name__ == \"__main__\":\n",
    "    try:\n",
    "        grpc_address = \"localhost:50051\"\n",
    "        print(\"simulation running... , grpc_address: \", grpc_address)\n",
    "        env_id = f\"XboxControl-v0-OrcaGym-{grpc_address[-2:]}\"\n",
    "\n",
    "        # RecordState 控制录制和回放状态\n",
    "        register_env(grpc_address, RecordState.NONE, 'xbox_control_record.h5')\n",
    "\n",
    "        env = gym.make(env_id)        \n",
    "        print(\"启动仿真环境\")\n",
    "\n",
    "        asyncio.run(continue_training(env))\n",
    "    except KeyboardInterrupt:\n",
    "        print(\"关闭仿真环境\")        \n",
    "        env.save_record()\n",
    "        env.close()"
   ]
  }
 ],
 "metadata": {
  "kernelspec": {
   "display_name": "base",
   "language": "python",
   "name": "python3"
  },
  "language_info": {
   "codemirror_mode": {
    "name": "ipython",
    "version": 3
   },
   "file_extension": ".py",
   "mimetype": "text/x-python",
   "name": "python",
   "nbconvert_exporter": "python",
   "pygments_lexer": "ipython3",
   "version": "3.11.9"
  }
 },
 "nbformat": 4,
 "nbformat_minor": 2
}
