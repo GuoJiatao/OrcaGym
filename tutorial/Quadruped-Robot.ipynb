{
 "cells": [
  {
   "cell_type": "markdown",
   "metadata": {},
   "source": [
    "# Quadruped Environment\n",
    "\n",
    "This is an example of a quadruped robot dog walking, using the MPC control algorithm.\n",
    "\n",
    "* **Ported from** https://github.com/iit-DLSLab/Quadruped-PyMPC\n",
    "* **Linux platform only**\n",
    "\n",
    "## How To Install\n",
    "If you are an **installation version user**, please skip the following steps and directly run the simulation（Run the Example）.\n",
    "\n",
    "Follow the instructions in this [Readme file](https://github.com/openverse-orca/OrcaGym/blob/main/envs/quadruped/README.md)"
   ]
  },
  {
   "cell_type": "markdown",
   "metadata": {},
   "source": [
    "\n",
    "## Run the Example\n",
    "\n",
    "* **Run OrcaStudio Level**\n",
    "According to the instructions in the main Readme document, copy the levels and assets to the OrcaStudio project directory. For the quadruped robot example, Level name is: `Quadruped_Linxai`\n",
    "\n",
    "* **Keyboard Controls**\n",
    "\n",
    "    * W/S: Move forward/backward\n",
    "    * A/D: Turn left/right\n",
    "    * Space: Stop\n",
    "\n",
    "* **Excute the code below**\n",
    "\n",
    "    **Note:** When running the script, a small window will appear in the top left corner of the screen. You need to focus on this window to capture keyboard inputs. Otherwise, the quadruped robot will not respond to the key presses."
   ]
  },
  {
   "cell_type": "code",
   "execution_count": null,
   "metadata": {},
   "outputs": [],
   "source": [
    "import os\n",
    "import subprocess\n",
    "\n",
    "current_file_path = os.path.abspath('')\n",
    "acados_path = os.path.join(current_file_path, \"../3rd_party/acados/\")\n",
    "os.environ['LD_LIBRARY_PATH'] = acados_path + \"lib\"\n",
    "os.environ['ACADOS_SOURCE_DIR'] = acados_path\n",
    "\n",
    "\n",
    "print(\"OS environment variables:\", os.environ['LD_LIBRARY_PATH'])\n",
    "\n",
    "script_dir = \"../examples/quadruped/\"\n",
    "script_path = os.path.join(\"quadruped_ctrl.py\")\n",
    "command = [\n",
    "    \"python\", script_path,\n",
    "    \"--orcagym_addr\", \"localhost\"\n",
    "]\n",
    "try:\n",
    "    subprocess.run(command, cwd=script_dir)\n",
    "except KeyboardInterrupt:\n",
    "    print(\"Simulation stopped by user.\")\n"
   ]
  }
 ],
 "metadata": {
  "kernelspec": {
   "display_name": "orca_gym_test",
   "language": "python",
   "name": "python3"
  },
  "language_info": {
   "codemirror_mode": {
    "name": "ipython",
    "version": 3
   },
   "file_extension": ".py",
   "mimetype": "text/x-python",
   "name": "python",
   "nbconvert_exporter": "python",
   "pygments_lexer": "ipython3",
   "version": "3.11.9"
  }
 },
 "nbformat": 4,
 "nbformat_minor": 2
}
