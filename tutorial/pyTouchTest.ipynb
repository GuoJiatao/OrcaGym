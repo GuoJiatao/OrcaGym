{
 "cells": [
  {
   "cell_type": "markdown",
   "metadata": {},
   "source": [
    "### 验证pytorch安装情况"
   ]
  },
  {
   "cell_type": "code",
   "execution_count": null,
   "metadata": {},
   "outputs": [],
   "source": [
    "import torch\n",
    "\n",
    "print(\"PyTorch version:\", torch.__version__)\n",
    "print(\"CUDA available:\", torch.cuda.is_available())\n",
    "if torch.cuda.is_available():\n",
    "    print(\"CUDA version:\", torch.version.cuda)\n",
    "    print(\"Current CUDA device:\", torch.cuda.current_device())\n",
    "    print(\"CUDA device name:\", torch.cuda.get_device_name(torch.cuda.current_device()))"
   ]
  },
  {
   "cell_type": "code",
   "execution_count": null,
   "metadata": {},
   "outputs": [],
   "source": [
    "import torch\n",
    "import time\n",
    "\n",
    "# 检查CUDA是否可用\n",
    "if not torch.cuda.is_available():\n",
    "    raise SystemError(\"CUDA is not available. Please check your PyTorch installation.\")\n",
    "\n",
    "# 打印CUDA设备信息\n",
    "device = torch.device(\"cuda\")\n",
    "print(\"Using device:\", torch.cuda.get_device_name(0))\n",
    "\n",
    "# 创建一个大张量\n",
    "tensor_size = 20000  # 增加张量的大小\n",
    "x = torch.rand((tensor_size, tensor_size), device=device)\n",
    "y = torch.rand((tensor_size, tensor_size), device=device)\n",
    "\n",
    "# 进行多次矩阵乘法操作，并计时\n",
    "num_iterations = 10\n",
    "start_time = time.time()\n",
    "\n",
    "for _ in range(num_iterations):\n",
    "    result = torch.mm(x, y)\n",
    "\n",
    "elapsed_time = time.time() - start_time\n",
    "\n",
    "print(f\"{num_iterations} iterations of matrix multiplication completed in {elapsed_time:.4f} seconds.\")\n",
    "print(f\"Average time per iteration: {elapsed_time / num_iterations:.4f} seconds.\")\n",
    "\n",
    "# 检查结果的一部分，以确保操作成功\n",
    "print(\"Result[0, 0]:\", result[0, 0].item())"
   ]
  }
 ],
 "metadata": {
  "kernelspec": {
   "display_name": "orca_gym",
   "language": "python",
   "name": "python3"
  },
  "language_info": {
   "codemirror_mode": {
    "name": "ipython",
    "version": 3
   },
   "file_extension": ".py",
   "mimetype": "text/x-python",
   "name": "python",
   "nbconvert_exporter": "python",
   "pygments_lexer": "ipython3",
   "version": "3.11.9"
  }
 },
 "nbformat": 4,
 "nbformat_minor": 2
}
