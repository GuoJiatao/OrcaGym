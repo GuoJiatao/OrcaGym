{
 "cells": [
  {
   "cell_type": "markdown",
   "metadata": {},
   "source": [
    "### 通过修改 Mocap 来控制 Franka Panda 机器人\n",
    "\n",
    "* 环境\n",
    "\n",
    "| Package   | Version |\n",
    "|-----------|---------|\n",
    "| gymnasium | 0.29.1  |\n",
    "| numpy | 1.24.0 |\n",
    "| scipy | 1.13.1 |\n",
    "| torch |  2.3.1+cu121 |\n",
    "| grpcio |   1.64.1 |\n",
    "| 关卡名 | Panda_Mocap |\n",
    "\n",
    "* Mocap 与机器人手部 ee_center_site 焊接\n",
    "* 根据强化学习模型输出的 Mocap xpos 修改 ee_site 的 xpos\n",
    "* 根据逆向动力学，手部关节跟随移动\n",
    "\n",
    "* 首先使用 reach 任务训练模型，确保机器人学会移动到目标附近\n"
   ]
  }
 ],
 "metadata": {
  "kernelspec": {
   "display_name": "orca_gym",
   "language": "python",
   "name": "python3"
  },
  "language_info": {
   "codemirror_mode": {
    "name": "ipython",
    "version": 3
   },
   "file_extension": ".py",
   "mimetype": "text/x-python",
   "name": "python",
   "nbconvert_exporter": "python",
   "pygments_lexer": "ipython3",
   "version": "3.11.9"
  }
 },
 "nbformat": 4,
 "nbformat_minor": 2
}
